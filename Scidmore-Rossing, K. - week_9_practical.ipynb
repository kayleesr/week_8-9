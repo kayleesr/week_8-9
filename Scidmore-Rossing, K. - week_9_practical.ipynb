{
 "cells": [
  {
   "cell_type": "markdown",
   "id": "a8b2b601",
   "metadata": {},
   "source": [
    "The data in the file `RIKZ.txt` available in the `data` folder was collected to study the relationship between some abiotic aspects (e.g., sediment composition, slope of the beach) as these might affect benthic fauna. Mulder (2000) described the results of a pilot study that looked at the effects of differences in slope and grain size on fauna in the coastal zone. \n",
    "\n",
    "\n",
    "Janssen, G.M., Mulder, S., Zuur, A.F., Ieno, E.N. and Smith, G.M."
   ]
  },
  {
   "cell_type": "markdown",
   "id": "28f2e03c",
   "metadata": {},
   "source": [
    "Q1. Load the data into a variable called `survey_data`\n",
    "  * The `survey_data` should be a `tibble`\n",
    "  * The fileds in the file are delimited. You can change read_csv's behavior to split on tabs, rather that on comma (\",\"), which is the default behavior"
   ]
  },
  {
   "cell_type": "code",
   "execution_count": 2,
   "id": "88e6f261",
   "metadata": {},
   "outputs": [],
   "source": [
    "#Question 1 \n",
    "\n",
    "library(tidyverse)\n",
    "library(dplyr)\n",
    "survey_data <- read_dlim(\"RIKZ.txt\")\n",
    "as_tibble(survey_data)"
   ]
  },
  {
   "cell_type": "markdown",
   "id": "b38ffe9f",
   "metadata": {},
   "source": [
    "Q2. display the first 6 lines of the tables"
   ]
  },
  {
   "cell_type": "code",
   "execution_count": 3,
   "id": "3bfcc569",
   "metadata": {},
   "outputs": [],
   "source": [
    "#Question 2 \n",
    "head(survey_data)"
   ]
  },
  {
   "cell_type": "markdown",
   "id": "7504d7cb",
   "metadata": {},
   "source": [
    "Q3 The columns C1 P1-P25, N1, CR1-28, M1-17 and I1-5 of the table represent the counts for 75 species grouped within five taxa: Chaetognatha (C), Polychaeta (P), Crustacea (CR), Mollusca (M), and Insecta (I). We're only interested in the richness, and we need to compute it as:\n",
    "* `1` if the group has a value `> 0`\n",
    "* `0` otherwise.\n",
    "\n",
    "* Create a new column, call it `richness`, which represents the richness in each sample. The richness of `sample 1` should be `11`, since sample has non-null values only for the following groups: \n",
    "```\n",
    "'C1''P6''P15''P16''P25''CR1''CR14''CR15''CR19''CR26''I3'\n",
    "```\n",
    "\n"
   ]
  },
  {
   "cell_type": "code",
   "execution_count": 4,
   "id": "cf24a458",
   "metadata": {},
   "outputs": [],
   "source": [
    "#Question 3\n",
    "survey_data_1 <- survey_data\n",
    "survey_data_A <- survey_data[, 2:76]\n",
    "\n",
    "survey_data_B <- survey_data_A %>%\n",
    "    mutate_if(is.numeric, -1 * (. !=0))\n",
    "\n",
    "survey_data_C <- survey_data_B %>% \n",
    "    mutate(richness = rowSums(survey_data_B))\n",
    "\n",
    "survey_data_1$richness <- survey_data_C$richness"
   ]
  },
  {
   "cell_type": "markdown",
   "id": "1f51b37a",
   "metadata": {},
   "source": [
    "Q4 Create a copy of the variable `survey_data` that does not have columns C1 P1-P25, N1, CR1-28, M1-17 and I1-5. Call this variable `survey_data_richness`\n"
   ]
  },
  {
   "cell_type": "code",
   "execution_count": 5,
   "id": "ecb3b089",
   "metadata": {},
   "outputs": [],
   "source": [
    "#Question 4\n",
    "survey_data_richness <- survey_data_1[, 77:90]"
   ]
  },
  {
   "cell_type": "markdown",
   "id": "1560369e",
   "metadata": {},
   "source": [
    "Q6. Use the `lm` function to model the richness as a function of the remaining variables but not including the variable `week`, which needs a special treatment we haven't covered yet!     \n"
   ]
  },
  {
   "cell_type": "code",
   "execution_count": null,
   "id": "6d598229",
   "metadata": {},
   "outputs": [],
   "source": [
    "#Question 6\n",
    "lm_angle1 <- lm(richness ~ angle1, survey_data_richness)\n",
    "lm_angle2 <- lm(richness ~ angle2, survey_data_richness)\n",
    "lm_exposure <- lm(richness ~ exposure, survey_data_richness)\n",
    "lm_salinity <- lm(richness ~ salinity, survey_data_richness)\n",
    "lm_temperature <- lm(richness ~ temperature, survey_data_richness)\n",
    "lm_NAP <- lm(richness ~ NAP, survey_data_richness)\n",
    "lm_penetrability <- lm(richness ~ penetrability, survey_data_richness)\n",
    "lm_grainsize <- lm(richness ~ grainsize, survey_data_richness)\n",
    "lm_humus <- lm(richness ~ humus, survey_data_richness)\n",
    "lm_chalk <- lm(richness ~ chalk, survey_data_richness)\n",
    "lm_sorting1 <- lm(richness ~ sorting1, survey_data_richness)\n",
    "lm_Beach <- lm(richness ~ Beach, survey_data_richness)\n"
   ]
  },
  {
   "cell_type": "markdown",
   "id": "9f0f0228",
   "metadata": {},
   "source": [
    "Q7. What do the various output of the `lm` mean? Interpret the results of your model. "
   ]
  },
  {
   "cell_type": "code",
   "execution_count": null,
   "id": "d747ba66",
   "metadata": {},
   "outputs": [],
   "source": [
    "#Question 7\n",
    "#No variables have strong correlation with the variable richness.\n",
    "#Some variables, like grainsize, have a negative correlation to richness while others are positive. "
   ]
  },
  {
   "cell_type": "code",
   "execution_count": null,
   "id": "5d5668b6",
   "metadata": {},
   "outputs": [],
   "source": [
    "Q8. Build a model that includes all the parameters and assess the fit of the data"
   ]
  },
  {
   "cell_type": "code",
   "execution_count": null,
   "id": "559cbb0b",
   "metadata": {},
   "outputs": [],
   "source": [
    "# Question 8 \n",
    "lm_all <- lm(richness ~ angle1+angle2+exposure+salinity+temperature+penetrability+\n",
    "             grainsize+humus+chalk+sorting1+Beach, survey_data_richness)\n",
    "summary(lm_all)"
   ]
  },
  {
   "cell_type": "code",
   "execution_count": null,
   "id": "45dca53e",
   "metadata": {},
   "outputs": [],
   "source": [
    "#The only variable with that produced a p-value near the alpha was salinity. All the rest were much higher. \n",
    "#When running the multiple linear regression model, the combined p-value was 0.338, showing no significance.\n",
    "#This output tells up that richness is not correlated strongly with any of these variables. "
   ]
  },
  {
   "cell_type": "markdown",
   "id": "061f8411",
   "metadata": {},
   "source": [
    "Q9. Use an appropriate method that only selects a subset of the data. Compare the AIC with the previous method. What do you conclude? Justify your answer."
   ]
  },
  {
   "cell_type": "code",
   "execution_count": null,
   "id": "c20a22ba",
   "metadata": {},
   "outputs": [],
   "source": [
    "#Question 9\n",
    "AIC(lm_all)"
   ]
  },
  {
   "cell_type": "code",
   "execution_count": null,
   "id": "3f6ed67c",
   "metadata": {},
   "outputs": [],
   "source": [
    "#The AIC score is >264, therefore, the model is not a good fit. \n",
    "#Finding the AIC produced similar results to the multiple linear regression model. "
   ]
  },
  {
   "cell_type": "markdown",
   "id": "9ad5710f",
   "metadata": {},
   "source": [
    "Q10. Can you find the model that provide the best fit. You can use term interaction in the model. Justify why this model is the `best`.\n",
    "\n",
    "\n"
   ]
  },
  {
   "cell_type": "code",
   "execution_count": null,
   "id": "07393c81",
   "metadata": {},
   "outputs": [],
   "source": [
    "# Write your code here"
   ]
  },
  {
   "cell_type": "code",
   "execution_count": null,
   "id": "31eea6ff",
   "metadata": {},
   "outputs": [],
   "source": [
    "# Write your Interpretation here"
   ]
  }
 ],
 "metadata": {
  "kernelspec": {
   "display_name": "R",
   "language": "R",
   "name": "ir"
  },
  "language_info": {
   "codemirror_mode": "r",
   "file_extension": ".r",
   "mimetype": "text/x-r-source",
   "name": "R",
   "pygments_lexer": "r",
   "version": "3.6.1"
  }
 },
 "nbformat": 4,
 "nbformat_minor": 5
}
